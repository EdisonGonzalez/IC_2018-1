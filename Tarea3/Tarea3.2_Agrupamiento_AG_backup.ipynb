{
 "cells": [
  {
   "cell_type": "markdown",
   "metadata": {},
   "source": [
    "# Tarea 3.2 - Agrupamiento - Algoritmos Genéticos"
   ]
  },
  {
   "cell_type": "markdown",
   "metadata": {},
   "source": [
    "## Edison David González Blandón & Juan Esteban Velasquéz Franco"
   ]
  },
  {
   "cell_type": "markdown",
   "metadata": {},
   "source": [
    "### Inicializando las condiciones iniciales y generando datos"
   ]
  },
  {
   "cell_type": "code",
   "execution_count": null,
   "metadata": {},
   "outputs": [],
   "source": [
    "%matplotlib inline\n",
    "from scipy.spatial import distance\n",
    "from mpl_toolkits.mplot3d import Axes3D\n",
    "import matplotlib.pyplot as plt\n",
    "from matplotlib import cm\n",
    "from matplotlib.ticker import LinearLocator, FormatStrFormatter\n",
    "import numpy as np\n",
    "\n",
    "Fitness=[]\n",
    "indice=[]        #Lista que contiene los indices de los clusters segun cada grupo\n",
    "cromosomas=10     #Tamaño de la poblacion (filas) - Cromosomas\n",
    "genes=16         #Numero de Genes\n",
    "K=4               #Cluster\n",
    "\n",
    "#Creación de los datos\n",
    "mean = [5, 10]            \n",
    "cov = [[1, 0], [0, 10]]  # diagonal covariance\n",
    "x1, x2 = np.random.multivariate_normal(mean, cov, int(genes/2)).T\n",
    "plt.plot(x1, x2, 'x')\n",
    "X_C1 = np.concatenate((x1[:,None],x2[:,None]),axis=1)  #Concatena [x1,x2] y genera vector de tuplas\n",
    "\n",
    "mean = [10, 10]\n",
    "cov = [[1, 0], [0, 10]]  # diagonal covariance\n",
    "x1, x2 = np.random.multivariate_normal(mean, cov, int(genes/2)).T\n",
    "plt.plot(x1, x2, 'x')\n",
    "plt.show()\n",
    "X_C2 = np.concatenate((x1[:,None],x2[:,None]),axis=1)  #Concatena [x1,x2] y genera vector de tuplas\n",
    "\n",
    "Xdata = np.concatenate((X_C1,X_C2),axis=0)\n",
    "#plt.plot(Xdata[:,0], Xdata[:,1], 'x')\n",
    "#plt.show()"
   ]
  },
  {
   "cell_type": "markdown",
   "metadata": {},
   "source": [
    "### Generando la matriz población"
   ]
  },
  {
   "cell_type": "code",
   "execution_count": null,
   "metadata": {},
   "outputs": [],
   "source": [
    "poblacion=[]\n",
    "for j in range(cromosomas):\n",
    "    poblacion.append(np.random.randint(1,K+1,genes))    #Genera vector de etiquetas Random\n",
    "poblacion=np.array(poblacion)\n",
    "#print(poblacion)\n",
    "#print(np.shape(poblacion))    "
   ]
  },
  {
   "cell_type": "markdown",
   "metadata": {},
   "source": [
    "### Enlazar datos con la matriz población"
   ]
  },
  {
   "cell_type": "code",
   "execution_count": null,
   "metadata": {},
   "outputs": [],
   "source": [
    "def IndexEtiq(poblacion,K):\n",
    "    indice=[]\n",
    "    for j in range (0,len(poblacion)):\n",
    "        for i in range(1,K+1):\n",
    "            indice.append(np.where(poblacion[j,:]==i)[0])\n",
    "            #print(indice)    #Contiene los indices de cada cluster\n",
    "            #print(indice[0])\n",
    "    arreglo_indices=np.array(indice)\n",
    "    indices=indice\n",
    "    indice=[]\n",
    "    #print(indices)\n",
    "    return indices\n",
    "\n",
    "indices_final = IndicesEtiqueta(poblacion,K)"
   ]
  },
  {
   "cell_type": "markdown",
   "metadata": {},
   "source": [
    "### Función Fitness - Función Objetivo"
   ]
  },
  {
   "cell_type": "code",
   "execution_count": null,
   "metadata": {},
   "outputs": [],
   "source": [
    "def FuncionObjetivo(cromosomas,K,indices_final,Xdata):\n",
    "    Fitness=[]\n",
    "    for c in range(cromosomas):\n",
    "        fitness_acum=0\n",
    "        for g in range (K):\n",
    "            eleccion_grupo=(c*K+g)\n",
    "            for v1 in range (len(indices_final[eleccion_grupo])):\n",
    "                for v2 in range (v1,len(indices_final[eleccion_grupo])):\n",
    "                    a=Xdata[indices_final[eleccion_grupo][v1]]\n",
    "                    b=Xdata[indices_final[eleccion_grupo][v2]]\n",
    "                    fitness_acum+=distance.euclidean(a,b)\n",
    "        #print(fitness_acum)\n",
    "        fitness_total_cr = 1/fitness_acum\n",
    "        Fitness.append(fitness_total_cr)\n",
    "    #print(Fitness)\n",
    "    return Fitness"
   ]
  },
  {
   "cell_type": "markdown",
   "metadata": {},
   "source": [
    "### Funciones de Cruce"
   ]
  },
  {
   "cell_type": "code",
   "execution_count": 1,
   "metadata": {},
   "outputs": [],
   "source": [
    "def CruceMultipunto(a,b):\n",
    "    cruce1 = np.random.randint(0,len(a))#Primer punto de cruce\n",
    "    cruce2 = 1+np.random.randint(cruce1,len(a))#Se le suma 1 para que el segundo cruce se haga al menos una posicion más allá \n",
    "    print(\"corte1: \",cruce1)\n",
    "    print(\"corte2: \",cruce2-1)\n",
    "    temp = np.zeros(len(a))\n",
    "    temp[cruce1:cruce2] = b[cruce1:cruce2]\n",
    "    b[cruce1:cruce2] = a[cruce1:cruce2]\n",
    "    a[cruce1:cruce2]=temp[cruce1:cruce2]\n",
    "    return a,b"
   ]
  },
  {
   "cell_type": "markdown",
   "metadata": {},
   "source": [
    "### Funciones de Mutación"
   ]
  },
  {
   "cell_type": "code",
   "execution_count": 2,
   "metadata": {},
   "outputs": [],
   "source": [
    "def Mutacion_RandomResetting(a,K):\n",
    "    gen1_elegido=np.random.randint(0,len(a)) #Se escoge el gen para mutar aleatoriamente \n",
    "    print(\"gen elegido para mutar: \",gen1_elegido)\n",
    "    resetting=np.random.randint(1,K+1)#mutación\n",
    "    print(\"Resetting: \",resetting)\n",
    "    a[gen1_elegido]=resetting\n",
    "    #print(\"cromosoma 'a' mutado: \",a)\n",
    "    return a"
   ]
  },
  {
   "cell_type": "markdown",
   "metadata": {},
   "source": [
    "### Wheel - Ruleta ara elección de padres e implementación de los cruces y finalización de iteraccion por generaciones"
   ]
  },
  {
   "cell_type": "markdown",
   "metadata": {},
   "source": [
    "#### Variables control, variación de generaciones"
   ]
  },
  {
   "cell_type": "code",
   "execution_count": null,
   "metadata": {},
   "outputs": [],
   "source": [
    "Tm = 0.4                #Tasa de mutacion \n",
    "Tc = 0.4                #Tasa de cruce porcentaje de parejas van a ser seleccionadas para el cruce\n",
    "N_gen = 4               #Numero de generaciones\n",
    "alpha = 0.6             #For aritmetic recombination\n",
    "mejor_fitnes = []       #Lista con los mejores fitness"
   ]
  },
  {
   "cell_type": "code",
   "execution_count": null,
   "metadata": {},
   "outputs": [],
   "source": [
    "for gen in range(N_gen):\n",
    "    \n",
    "    #print(\"Poblacion Inicial\")\n",
    "    #print(poblacion)\n",
    "    \n",
    "    # Fitness evaluation\n",
    "    Fitness = np.array(FuncionObjetivo(cromosomas,K,indices_final,Xdata)) #Primero hallando, el resultado de la función fitness\n",
    "    #print(Fitness)\n",
    "    BestIndividuos = np.argsort(-Fitness) #argsort, orden de los indices con mejores fitness\n",
    "    \n",
    "    #print(\"Poblacion Cambio 1\")\n",
    "    poblacion = poblacion[BestIndividuos]\n",
    "    #print(poblacion)\n",
    "    \n",
    "    Wheel = np.cumsum(Fitness[BestIndividuos])/np.sum(Fitness[BestIndividuos])\n",
    "    \n",
    "    # Crossover - Wheel \n",
    "    \n",
    "    for parent in range(int(Tc*cromosomas/2)):\n",
    "        P = np.random.rand(1)\n",
    "        ParentSelected_1 = np.where(Wheel >= P)[0][0]\n",
    "        \n",
    "        P = np.random.rand(1)\n",
    "        ParentSelected_2 = np.where(Wheel >= P)[0][0]\n",
    "        \n",
    "        #Crossover - Cruce Multipunto \n",
    "        Child_1 ,Child_2 = CruceMultipunto(poblacion[ParentSelected_1],poblacion[ParentSelected_2]\n",
    "        \n",
    "        #Add to population\n",
    "        poblacion = np.append(poblacion,Child_1[None,:],axis=0)\n",
    "        poblacion = np.append(poblacion,Child_2[None,:],axis=0)\n",
    "        \n",
    "        #print(poblacion)\n",
    "    \n",
    "    # Mutation - Wheel\n",
    "    for parent in range(int(Tm*cromosomas)):\n",
    "        P = np.random.rand(1)\n",
    "        ParentSelected = np.where(Wheel >= P)[0][0]\n",
    "        \n",
    "        #Add to population\n",
    "        Child_1 = poblacion[ParentSelected] + np.random.rand(1)\n",
    "        poblacion = np.append(poblacion,Child_1[None,:],axis=0)\n",
    "        \n",
    "        print(\"Poblacion cambio 3\")\n",
    "        \n",
    "        print(poblacion)\n",
    "        \n",
    "    #Selection\n",
    "    Fitness = np.array(FuncionObjetivo(cromosomas,K,indices_final,Xdata))\n",
    "    \n",
    "    print(\"Poblacion Final\")\n",
    "    \n",
    "    print(poblacion)\n",
    "    \n",
    "    BestIndividuos = np.argsort(-Fitness)\n",
    "    poblacion = poblacion[BestIndividuos[:cromosomas]]\n",
    "    Fitness = Fitness[BestIndividuos]\n",
    "    \n",
    "    plt.plot(gen,Fitness[0],'.')\n",
    "plt.show()"
   ]
  }
 ],
 "metadata": {
  "kernelspec": {
   "display_name": "Python 3",
   "language": "python",
   "name": "python3"
  },
  "language_info": {
   "codemirror_mode": {
    "name": "ipython",
    "version": 3
   },
   "file_extension": ".py",
   "mimetype": "text/x-python",
   "name": "python",
   "nbconvert_exporter": "python",
   "pygments_lexer": "ipython3",
   "version": "3.6.4"
  }
 },
 "nbformat": 4,
 "nbformat_minor": 2
}
