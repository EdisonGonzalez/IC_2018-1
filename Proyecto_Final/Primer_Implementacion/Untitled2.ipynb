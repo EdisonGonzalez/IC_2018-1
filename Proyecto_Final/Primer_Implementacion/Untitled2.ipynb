{
 "cells": [
  {
   "cell_type": "code",
   "execution_count": 34,
   "metadata": {},
   "outputs": [
    {
     "name": "stderr",
     "output_type": "stream",
     "text": [
      "C:\\ProgramData\\Anaconda3\\lib\\site-packages\\ipykernel_launcher.py:9: DeprecationWarning: The truth value of an empty array is ambiguous. Returning False, but in future this will result in an error. Use `array.size > 0` to check that an array is not empty.\n",
      "  if __name__ == '__main__':\n",
      "C:\\ProgramData\\Anaconda3\\lib\\site-packages\\ipykernel_launcher.py:9: DeprecationWarning: elementwise == comparison failed; this will raise an error in the future.\n",
      "  if __name__ == '__main__':\n"
     ]
    },
    {
     "data": {
      "text/plain": [
       "array([[ 58., 100.],\n",
       "       [ 33.,   9.],\n",
       "       [ 34.,  13.],\n",
       "       ...,\n",
       "       [ 34.,   7.],\n",
       "       [ 34.,   7.],\n",
       "       [ 34.,   7.]])"
      ]
     },
     "execution_count": 34,
     "metadata": {},
     "output_type": "execute_result"
    }
   ],
   "source": [
    "import glob\n",
    "import numpy as np\n",
    "Data=glob.glob('Datos/*')\n",
    "All_Data=np.array([])\n",
    "i=0\n",
    "for Diabet in Data:\n",
    "    try:\n",
    "        x=np.genfromtxt(Diabet)\n",
    "        if All_Data==np.array([]):\n",
    "            All_Data=x\n",
    "        else :\n",
    "            All_Data=np.append(All_Data,x)\n",
    "        i=i+1\n",
    "    except ValueError:\n",
    "        None\n",
    "All_Data=All_Data.reshape(-1,4)\n",
    "All_Data=All_Data[:,2:]\n",
    "#All_Data.sort()\n",
    "All_Data\n"
   ]
  },
  {
   "cell_type": "code",
   "execution_count": 41,
   "metadata": {},
   "outputs": [],
   "source": [
    "Code=[33, 34, 35, 48, 57, 58, 59, 60, 61, 62, 63, 64, 65, 66, 67, 68, 69, 70, 71, 72]\n",
    "\n",
    "for label in Code:\n",
    "    idx=np.where(All_Data[:,0]==label)[0]\n",
    "    #print(idx)\n",
    "    DataTrain=All_Data[idx[:round(0.7*len(idx))]]\n",
    "    DataTest=All_Data[idx[round(0.7*len(idx)):]]\n",
    "    \n",
    "    ## Poner Codigo Regresoresy RNA"
   ]
  },
  {
   "cell_type": "code",
   "execution_count": null,
   "metadata": {},
   "outputs": [],
   "source": [
    "()"
   ]
  }
 ],
 "metadata": {
  "kernelspec": {
   "display_name": "Python 3",
   "language": "python",
   "name": "python3"
  },
  "language_info": {
   "codemirror_mode": {
    "name": "ipython",
    "version": 3
   },
   "file_extension": ".py",
   "mimetype": "text/x-python",
   "name": "python",
   "nbconvert_exporter": "python",
   "pygments_lexer": "ipython3",
   "version": "3.6.4"
  }
 },
 "nbformat": 4,
 "nbformat_minor": 2
}
